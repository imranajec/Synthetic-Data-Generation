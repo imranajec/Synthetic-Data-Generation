{
  "nbformat": 4,
  "nbformat_minor": 0,
  "metadata": {
    "colab": {
      "provenance": [],
      "authorship_tag": "ABX9TyM8ObLW+uBUF5CtMeh4gsMs",
      "include_colab_link": true
    },
    "kernelspec": {
      "name": "python3",
      "display_name": "Python 3"
    },
    "language_info": {
      "name": "python"
    }
  },
  "cells": [
    {
      "cell_type": "markdown",
      "metadata": {
        "id": "view-in-github",
        "colab_type": "text"
      },
      "source": [
        "<a href=\"https://colab.research.google.com/github/imranajec/Synthetic-Data-Generation/blob/main/FeedbackSegragation.ipynb\" target=\"_parent\"><img src=\"https://colab.research.google.com/assets/colab-badge.svg\" alt=\"Open In Colab\"/></a>"
      ]
    },
    {
      "cell_type": "code",
      "execution_count": 67,
      "metadata": {
        "colab": {
          "base_uri": "https://localhost:8080/"
        },
        "id": "Y-fCANZtwyz8",
        "outputId": "568308d6-17cb-4a5d-dea2-fe9867d6947a"
      },
      "outputs": [
        {
          "output_type": "stream",
          "name": "stdout",
          "text": [
            "Data saved to patient_feedback.csv\n"
          ]
        }
      ],
      "source": [
        "import pandas as pd\n",
        "\n",
        "# Create the dataset\n",
        "data = {\n",
        "    \"feedback\": [\n",
        "        \"The waiting time for appointments is too long.\",\n",
        "        \"The hospital cafeteria food quality needs improvement.\",\n",
        "        \"Dr. Smith was excellent, very thorough and patient.\",\n",
        "        \"The nurses were very kind and helpful during my stay.\",\n",
        "        \"The billing process is confusing and took too long.\",\n",
        "        \"The hospital rooms are not as clean as expected.\",\n",
        "        \"The receptionist was rude and unhelpful.\",\n",
        "        \"The parking facilities are inadequate and always full.\",\n",
        "        \"The overall service at the hospital was unsatisfactory.\",\n",
        "        \"The medical equipment seems outdated and not well-maintained.\"\n",
        "        \"rohit did not do my surgery properly\"\n",
        "    ]\n",
        "}\n",
        "\n",
        "# Create a DataFrame\n",
        "df = pd.DataFrame(data)\n",
        "\n",
        "# Save the DataFrame to a CSV file\n",
        "csv_file_path = 'patient_feedback.csv'\n",
        "df.to_csv(csv_file_path, index=False)\n",
        "\n",
        "print(f\"Data saved to {csv_file_path}\")\n"
      ]
    },
    {
      "cell_type": "code",
      "source": [
        "\n",
        "!pip install langchain-google-genai"
      ],
      "metadata": {
        "colab": {
          "base_uri": "https://localhost:8080/",
          "height": 1000
        },
        "id": "0k_EjEQ3y2c7",
        "outputId": "6555be90-0165-4a61-a2b7-1dd21f8e391b"
      },
      "execution_count": 2,
      "outputs": [
        {
          "output_type": "stream",
          "name": "stdout",
          "text": [
            "Collecting langchain-google-genai\n",
            "  Downloading langchain_google_genai-1.0.7-py3-none-any.whl (36 kB)\n",
            "Collecting google-generativeai<0.8.0,>=0.7.0 (from langchain-google-genai)\n",
            "  Downloading google_generativeai-0.7.2-py3-none-any.whl (164 kB)\n",
            "\u001b[2K     \u001b[90m━━━━━━━━━━━━━━━━━━━━━━━━━━━━━━━━━━━━━━━━\u001b[0m \u001b[32m164.2/164.2 kB\u001b[0m \u001b[31m7.2 MB/s\u001b[0m eta \u001b[36m0:00:00\u001b[0m\n",
            "\u001b[?25hCollecting langchain-core<0.3,>=0.2.9 (from langchain-google-genai)\n",
            "  Downloading langchain_core-0.2.12-py3-none-any.whl (355 kB)\n",
            "\u001b[2K     \u001b[90m━━━━━━━━━━━━━━━━━━━━━━━━━━━━━━━━━━━━━━━━\u001b[0m \u001b[32m355.8/355.8 kB\u001b[0m \u001b[31m30.0 MB/s\u001b[0m eta \u001b[36m0:00:00\u001b[0m\n",
            "\u001b[?25hCollecting google-ai-generativelanguage==0.6.6 (from google-generativeai<0.8.0,>=0.7.0->langchain-google-genai)\n",
            "  Downloading google_ai_generativelanguage-0.6.6-py3-none-any.whl (718 kB)\n",
            "\u001b[2K     \u001b[90m━━━━━━━━━━━━━━━━━━━━━━━━━━━━━━━━━━━━━━━━\u001b[0m \u001b[32m718.3/718.3 kB\u001b[0m \u001b[31m46.5 MB/s\u001b[0m eta \u001b[36m0:00:00\u001b[0m\n",
            "\u001b[?25hRequirement already satisfied: google-api-core in /usr/local/lib/python3.10/dist-packages (from google-generativeai<0.8.0,>=0.7.0->langchain-google-genai) (2.16.2)\n",
            "Requirement already satisfied: google-api-python-client in /usr/local/lib/python3.10/dist-packages (from google-generativeai<0.8.0,>=0.7.0->langchain-google-genai) (2.84.0)\n",
            "Requirement already satisfied: google-auth>=2.15.0 in /usr/local/lib/python3.10/dist-packages (from google-generativeai<0.8.0,>=0.7.0->langchain-google-genai) (2.27.0)\n",
            "Requirement already satisfied: protobuf in /usr/local/lib/python3.10/dist-packages (from google-generativeai<0.8.0,>=0.7.0->langchain-google-genai) (3.20.3)\n",
            "Requirement already satisfied: pydantic in /usr/local/lib/python3.10/dist-packages (from google-generativeai<0.8.0,>=0.7.0->langchain-google-genai) (2.8.0)\n",
            "Requirement already satisfied: tqdm in /usr/local/lib/python3.10/dist-packages (from google-generativeai<0.8.0,>=0.7.0->langchain-google-genai) (4.66.4)\n",
            "Requirement already satisfied: typing-extensions in /usr/local/lib/python3.10/dist-packages (from google-generativeai<0.8.0,>=0.7.0->langchain-google-genai) (4.12.2)\n",
            "Requirement already satisfied: proto-plus<2.0.0dev,>=1.22.3 in /usr/local/lib/python3.10/dist-packages (from google-ai-generativelanguage==0.6.6->google-generativeai<0.8.0,>=0.7.0->langchain-google-genai) (1.24.0)\n",
            "Requirement already satisfied: PyYAML>=5.3 in /usr/local/lib/python3.10/dist-packages (from langchain-core<0.3,>=0.2.9->langchain-google-genai) (6.0.1)\n",
            "Collecting jsonpatch<2.0,>=1.33 (from langchain-core<0.3,>=0.2.9->langchain-google-genai)\n",
            "  Downloading jsonpatch-1.33-py2.py3-none-any.whl (12 kB)\n",
            "Collecting langsmith<0.2.0,>=0.1.75 (from langchain-core<0.3,>=0.2.9->langchain-google-genai)\n",
            "  Downloading langsmith-0.1.84-py3-none-any.whl (127 kB)\n",
            "\u001b[2K     \u001b[90m━━━━━━━━━━━━━━━━━━━━━━━━━━━━━━━━━━━━━━━━\u001b[0m \u001b[32m127.9/127.9 kB\u001b[0m \u001b[31m13.7 MB/s\u001b[0m eta \u001b[36m0:00:00\u001b[0m\n",
            "\u001b[?25hRequirement already satisfied: packaging<25,>=23.2 in /usr/local/lib/python3.10/dist-packages (from langchain-core<0.3,>=0.2.9->langchain-google-genai) (24.1)\n",
            "Requirement already satisfied: tenacity!=8.4.0,<9.0.0,>=8.1.0 in /usr/local/lib/python3.10/dist-packages (from langchain-core<0.3,>=0.2.9->langchain-google-genai) (8.4.2)\n",
            "Requirement already satisfied: cachetools<6.0,>=2.0.0 in /usr/local/lib/python3.10/dist-packages (from google-auth>=2.15.0->google-generativeai<0.8.0,>=0.7.0->langchain-google-genai) (5.3.3)\n",
            "Requirement already satisfied: pyasn1-modules>=0.2.1 in /usr/local/lib/python3.10/dist-packages (from google-auth>=2.15.0->google-generativeai<0.8.0,>=0.7.0->langchain-google-genai) (0.4.0)\n",
            "Requirement already satisfied: rsa<5,>=3.1.4 in /usr/local/lib/python3.10/dist-packages (from google-auth>=2.15.0->google-generativeai<0.8.0,>=0.7.0->langchain-google-genai) (4.9)\n",
            "Collecting jsonpointer>=1.9 (from jsonpatch<2.0,>=1.33->langchain-core<0.3,>=0.2.9->langchain-google-genai)\n",
            "  Downloading jsonpointer-3.0.0-py2.py3-none-any.whl (7.6 kB)\n",
            "Collecting orjson<4.0.0,>=3.9.14 (from langsmith<0.2.0,>=0.1.75->langchain-core<0.3,>=0.2.9->langchain-google-genai)\n",
            "  Downloading orjson-3.10.6-cp310-cp310-manylinux_2_17_x86_64.manylinux2014_x86_64.whl (141 kB)\n",
            "\u001b[2K     \u001b[90m━━━━━━━━━━━━━━━━━━━━━━━━━━━━━━━━━━━━━━━━\u001b[0m \u001b[32m141.1/141.1 kB\u001b[0m \u001b[31m10.9 MB/s\u001b[0m eta \u001b[36m0:00:00\u001b[0m\n",
            "\u001b[?25hRequirement already satisfied: requests<3,>=2 in /usr/local/lib/python3.10/dist-packages (from langsmith<0.2.0,>=0.1.75->langchain-core<0.3,>=0.2.9->langchain-google-genai) (2.31.0)\n",
            "Requirement already satisfied: annotated-types>=0.4.0 in /usr/local/lib/python3.10/dist-packages (from pydantic->google-generativeai<0.8.0,>=0.7.0->langchain-google-genai) (0.7.0)\n",
            "Requirement already satisfied: pydantic-core==2.20.0 in /usr/local/lib/python3.10/dist-packages (from pydantic->google-generativeai<0.8.0,>=0.7.0->langchain-google-genai) (2.20.0)\n",
            "Requirement already satisfied: googleapis-common-protos<2.0.dev0,>=1.56.2 in /usr/local/lib/python3.10/dist-packages (from google-api-core->google-generativeai<0.8.0,>=0.7.0->langchain-google-genai) (1.63.2)\n",
            "Requirement already satisfied: httplib2<1dev,>=0.15.0 in /usr/local/lib/python3.10/dist-packages (from google-api-python-client->google-generativeai<0.8.0,>=0.7.0->langchain-google-genai) (0.22.0)\n",
            "Requirement already satisfied: google-auth-httplib2>=0.1.0 in /usr/local/lib/python3.10/dist-packages (from google-api-python-client->google-generativeai<0.8.0,>=0.7.0->langchain-google-genai) (0.1.1)\n",
            "Requirement already satisfied: uritemplate<5,>=3.0.1 in /usr/local/lib/python3.10/dist-packages (from google-api-python-client->google-generativeai<0.8.0,>=0.7.0->langchain-google-genai) (4.1.1)\n",
            "Requirement already satisfied: grpcio<2.0dev,>=1.33.2 in /usr/local/lib/python3.10/dist-packages (from google-api-core->google-generativeai<0.8.0,>=0.7.0->langchain-google-genai) (1.64.1)\n",
            "Requirement already satisfied: grpcio-status<2.0.dev0,>=1.33.2 in /usr/local/lib/python3.10/dist-packages (from google-api-core->google-generativeai<0.8.0,>=0.7.0->langchain-google-genai) (1.48.2)\n",
            "Requirement already satisfied: pyparsing!=3.0.0,!=3.0.1,!=3.0.2,!=3.0.3,<4,>=2.4.2 in /usr/local/lib/python3.10/dist-packages (from httplib2<1dev,>=0.15.0->google-api-python-client->google-generativeai<0.8.0,>=0.7.0->langchain-google-genai) (3.1.2)\n",
            "Requirement already satisfied: pyasn1<0.7.0,>=0.4.6 in /usr/local/lib/python3.10/dist-packages (from pyasn1-modules>=0.2.1->google-auth>=2.15.0->google-generativeai<0.8.0,>=0.7.0->langchain-google-genai) (0.6.0)\n",
            "Requirement already satisfied: charset-normalizer<4,>=2 in /usr/local/lib/python3.10/dist-packages (from requests<3,>=2->langsmith<0.2.0,>=0.1.75->langchain-core<0.3,>=0.2.9->langchain-google-genai) (3.3.2)\n",
            "Requirement already satisfied: idna<4,>=2.5 in /usr/local/lib/python3.10/dist-packages (from requests<3,>=2->langsmith<0.2.0,>=0.1.75->langchain-core<0.3,>=0.2.9->langchain-google-genai) (3.7)\n",
            "Requirement already satisfied: urllib3<3,>=1.21.1 in /usr/local/lib/python3.10/dist-packages (from requests<3,>=2->langsmith<0.2.0,>=0.1.75->langchain-core<0.3,>=0.2.9->langchain-google-genai) (2.0.7)\n",
            "Requirement already satisfied: certifi>=2017.4.17 in /usr/local/lib/python3.10/dist-packages (from requests<3,>=2->langsmith<0.2.0,>=0.1.75->langchain-core<0.3,>=0.2.9->langchain-google-genai) (2024.6.2)\n",
            "Installing collected packages: orjson, jsonpointer, jsonpatch, langsmith, langchain-core, google-ai-generativelanguage, google-generativeai, langchain-google-genai\n",
            "  Attempting uninstall: google-ai-generativelanguage\n",
            "    Found existing installation: google-ai-generativelanguage 0.6.4\n",
            "    Uninstalling google-ai-generativelanguage-0.6.4:\n",
            "      Successfully uninstalled google-ai-generativelanguage-0.6.4\n",
            "  Attempting uninstall: google-generativeai\n",
            "    Found existing installation: google-generativeai 0.5.4\n",
            "    Uninstalling google-generativeai-0.5.4:\n",
            "      Successfully uninstalled google-generativeai-0.5.4\n",
            "Successfully installed google-ai-generativelanguage-0.6.6 google-generativeai-0.7.2 jsonpatch-1.33 jsonpointer-3.0.0 langchain-core-0.2.12 langchain-google-genai-1.0.7 langsmith-0.1.84 orjson-3.10.6\n"
          ]
        },
        {
          "output_type": "display_data",
          "data": {
            "application/vnd.colab-display-data+json": {
              "pip_warning": {
                "packages": [
                  "google"
                ]
              },
              "id": "c8625f9529f8493f879c0322f7dd3b2d"
            }
          },
          "metadata": {}
        }
      ]
    },
    {
      "cell_type": "code",
      "source": [
        "import os\n",
        "from google.colab import userdata\n",
        "GOOGLE_API_KEY=userdata.get('GOOGLE_API_KEY')\n",
        "os.environ[\"GOOGLE_API_KEY\"] = GOOGLE_API_KEY"
      ],
      "metadata": {
        "id": "NMkTA0OhzXVt"
      },
      "execution_count": 68,
      "outputs": []
    },
    {
      "cell_type": "code",
      "source": [],
      "metadata": {
        "id": "HHw_zUiDNdDW"
      },
      "execution_count": 68,
      "outputs": []
    },
    {
      "cell_type": "code",
      "source": [
        "llm = ChatGoogleGenerativeAI(model=\"gemini-pro\")"
      ],
      "metadata": {
        "id": "IYdz4Qfqzf0Z"
      },
      "execution_count": 69,
      "outputs": []
    },
    {
      "cell_type": "code",
      "source": [
        "import pandas as pd\n",
        "import json\n",
        "from langchain_google_genai import ChatGoogleGenerativeAI\n",
        "\n",
        "# Function to process feedback with Gemini Pro\n",
        "def process_feedback_with_gemini(feedback):\n",
        "    prompt = (\n",
        "        f\"Feedback: {feedback}\\n\"\n",
        "        \"Please provide the following information in JSON format:\\n\"\n",
        "        \"1. Sentiment (Positive/Negative)\\n\"\n",
        "        \"2. Is the problem valid (yes/no)?\\n\"\n",
        "        \"3. If valid, describe the problem.\\n\"\n",
        "        \"4. Who cause the problem, answer in one or two words?\\n If a person name is mentioned, genralize him/her to his job role. \\n\"\n",
        "        \"5. Specific entity name (if any).\\n\"\n",
        "    )\n",
        "    response = llm.invoke(prompt)\n",
        "    return response\n",
        "\n",
        "# Read the feedback dataset\n",
        "df = pd.read_csv('/content/patient_feedback.csv')\n",
        "\n",
        "# Process each feedback entry\n",
        "processed_feedback = []\n",
        "for index, row in df.iterrows():\n",
        "    feedback = row['feedback']\n",
        "    response = process_feedback_with_gemini(feedback)\n",
        "    response_content = response.content\n",
        "    processed_feedback.append(response_content)\n",
        "\n",
        "# Convert the processed feedback to JSON\n",
        "processed_json = json.dumps(processed_feedback, indent=2)\n",
        "\n",
        "# Print the JSON\n",
        "print(processed_json)\n"
      ],
      "metadata": {
        "colab": {
          "base_uri": "https://localhost:8080/"
        },
        "id": "M_GnbbCcxKH_",
        "outputId": "a4cea3f1-3b7d-47d7-d9ad-d6c618fa73ca"
      },
      "execution_count": 74,
      "outputs": [
        {
          "output_type": "stream",
          "name": "stdout",
          "text": [
            "[\n",
            "  \"```json\\n{\\n  \\\"Sentiment\\\": \\\"Negative\\\",\\n  \\\"Is the problem valid\\\": \\\"yes\\\",\\n  \\\"Describe the problem\\\": \\\"The waiting time for appointments is too long.\\\",\\n  \\\"Who cause the problem\\\": \\\"Doctor\\\",\\n  \\\"Specific entity name\\\": null\\n}\\n```\",\n",
            "  \"```JSON\\n{\\n  \\\"Sentiment\\\": \\\"Negative\\\",\\n  \\\"Is the problem valid\\\": \\\"yes\\\",\\n  \\\"Describe the problem\\\": \\\"The food quality in the hospital cafeteria needs improvement.\\\",\\n  \\\"Who cause the problem\\\": \\\"Cafeteria staff\\\",\\n  \\\"Specific entity name\\\": null\\n}\\n```\",\n",
            "  \"```\\n{\\n  \\\"Sentiment\\\": \\\"Positive\\\",\\n  \\\"Is_problem_valid\\\": \\\"No\\\",\\n  \\\"Problem_description\\\": \\\"N/A\\\",\\n  \\\"Who_caused_the_problem\\\": \\\"N/A\\\",\\n  \\\"Specific_entity_name\\\": \\\"N/A\\\"\\n}\\n```\",\n",
            "  \"```\\n{\\n  \\\"Sentiment\\\": \\\"Positive\\\",\\n  \\\"Is_problem_valid\\\": \\\"no\\\",\\n  \\\"Problem_description\\\": \\\"N/A\\\",\\n  \\\"Problem_cause\\\": \\\"N/A\\\",\\n  \\\"Specific_entity\\\": \\\"N/A\\\"\\n}\\n```\",\n",
            "  \"```json\\n{\\n  \\\"Sentiment\\\": \\\"Negative\\\",\\n  \\\"Is_problem_valid\\\": \\\"yes\\\",\\n  \\\"Problem_description\\\": \\\"The billing process is confusing and took too long.\\\",\\n  \\\"Who_caused_the_problem\\\": \\\"Billing department\\\",\\n  \\\"Specific_entity_name\\\": null\\n}\\n```\",\n",
            "  \"```json\\n{\\n  \\\"Sentiment\\\": \\\"Negative\\\",\\n  \\\"Is_problem_valid\\\": \\\"yes\\\",\\n  \\\"Problem_description\\\": \\\"The hospital rooms are not as clean as expected.\\\",\\n  \\\"Who_caused_the_problem\\\": \\\"Hospital staff\\\",\\n  \\\"Specific_entity_name\\\": null\\n}\\n```\",\n",
            "  \"```json\\n{\\n  \\\"Sentiment\\\": \\\"Negative\\\",\\n  \\\"Is_problem_valid\\\": \\\"Yes\\\",\\n  \\\"Problem_description\\\": \\\"The receptionist was rude and unhelpful.\\\",\\n  \\\"Who_caused_the_problem\\\": \\\"Receptionist\\\",\\n  \\\"Specific_entity_name\\\": \\\"N/A\\\"\\n}\\n```\",\n",
            "  \"```json\\n{\\n  \\\"Sentiment\\\": \\\"Negative\\\",\\n  \\\"Is the problem valid\\\": \\\"yes\\\",\\n  \\\"Describe the problem\\\": \\\"The parking facilities are inadequate and always full.\\\",\\n  \\\"Who cause the problem\\\": \\\"Facility Management\\\",\\n  \\\"Specific entity name\\\": \\\"N/A\\\"\\n}\\n```\",\n",
            "  \"```\\n{\\n  \\\"Sentiment\\\": \\\"Negative\\\",\\n  \\\"Is the problem valid\\\": \\\"yes\\\",\\n  \\\"Describe the problem\\\": \\\"The overall service at the hospital was unsatisfactory.\\\",\\n  \\\"Who cause the problem\\\": \\\"Hospital staff\\\",\\n  \\\"Specific entity name\\\": \\\"N/A\\\"\\n}\\n```\",\n",
            "  \"```\\n{\\n  \\\"Sentiment\\\": \\\"Negative\\\",\\n  \\\"Is the problem valid\\\": \\\"yes\\\",\\n  \\\"Problem description\\\": \\\"The medical equipment seems outdated and not well-maintained. The surgery was not performed properly.\\\",\\n  \\\"Who caused the problem\\\": \\\"Surgeon\\\",\\n  \\\"Specific entity name\\\": \\\"rohit\\\"\\n}\\n```\"\n",
            "]\n"
          ]
        }
      ]
    },
    {
      "cell_type": "code",
      "source": [
        "import re\n",
        "\n",
        "# Function to clean and parse the JSON responses\n",
        "def clean_and_parse_json(response):\n",
        "    # Remove the code block delimiters and strip whitespace\n",
        "    clean_response = re.sub(r'^```[a-zA-Z]*\\n|\\n```$', '', response).strip()\n",
        "    try:\n",
        "        # Parse the JSON response\n",
        "        parsed_json = json.loads(clean_response)\n",
        "        return json.dumps(parsed_json, indent=4)\n",
        "    except json.JSONDecodeError as e:\n",
        "        # Handle JSON parsing errors\n",
        "        return f\"Invalid JSON response: {clean_response}\\nError: {e}\"\n",
        "\n",
        "# Initialize an empty list to hold cleaned responses\n",
        "cleaned_responses = []\n",
        "\n",
        "# Pretty-print each JSON response\n",
        "for response in processed_feedback:\n",
        "    if response:  # Check if the response is not empty\n",
        "        cleaned_responses.append(clean_and_parse_json(response))\n",
        "    else:\n",
        "        cleaned_responses.append(\"Empty response\")\n",
        "\n",
        "# Print each cleaned response with proper separation\n",
        "for cleaned_response in cleaned_responses:\n",
        "    print(cleaned_response)\n",
        "    print(\"\\n\" + \"-\"*50 + \"\\n\")  # Separator for readability\n"
      ],
      "metadata": {
        "colab": {
          "base_uri": "https://localhost:8080/"
        },
        "id": "4DlFXSs1I8My",
        "outputId": "bcbc1fb0-565a-445d-d060-a6e954228bee"
      },
      "execution_count": 75,
      "outputs": [
        {
          "output_type": "stream",
          "name": "stdout",
          "text": [
            "{\n",
            "    \"Sentiment\": \"Negative\",\n",
            "    \"Is the problem valid\": \"yes\",\n",
            "    \"Describe the problem\": \"The waiting time for appointments is too long.\",\n",
            "    \"Who cause the problem\": \"Doctor\",\n",
            "    \"Specific entity name\": null\n",
            "}\n",
            "\n",
            "--------------------------------------------------\n",
            "\n",
            "{\n",
            "    \"Sentiment\": \"Negative\",\n",
            "    \"Is the problem valid\": \"yes\",\n",
            "    \"Describe the problem\": \"The food quality in the hospital cafeteria needs improvement.\",\n",
            "    \"Who cause the problem\": \"Cafeteria staff\",\n",
            "    \"Specific entity name\": null\n",
            "}\n",
            "\n",
            "--------------------------------------------------\n",
            "\n",
            "{\n",
            "    \"Sentiment\": \"Positive\",\n",
            "    \"Is_problem_valid\": \"No\",\n",
            "    \"Problem_description\": \"N/A\",\n",
            "    \"Who_caused_the_problem\": \"N/A\",\n",
            "    \"Specific_entity_name\": \"N/A\"\n",
            "}\n",
            "\n",
            "--------------------------------------------------\n",
            "\n",
            "{\n",
            "    \"Sentiment\": \"Positive\",\n",
            "    \"Is_problem_valid\": \"no\",\n",
            "    \"Problem_description\": \"N/A\",\n",
            "    \"Problem_cause\": \"N/A\",\n",
            "    \"Specific_entity\": \"N/A\"\n",
            "}\n",
            "\n",
            "--------------------------------------------------\n",
            "\n",
            "{\n",
            "    \"Sentiment\": \"Negative\",\n",
            "    \"Is_problem_valid\": \"yes\",\n",
            "    \"Problem_description\": \"The billing process is confusing and took too long.\",\n",
            "    \"Who_caused_the_problem\": \"Billing department\",\n",
            "    \"Specific_entity_name\": null\n",
            "}\n",
            "\n",
            "--------------------------------------------------\n",
            "\n",
            "{\n",
            "    \"Sentiment\": \"Negative\",\n",
            "    \"Is_problem_valid\": \"yes\",\n",
            "    \"Problem_description\": \"The hospital rooms are not as clean as expected.\",\n",
            "    \"Who_caused_the_problem\": \"Hospital staff\",\n",
            "    \"Specific_entity_name\": null\n",
            "}\n",
            "\n",
            "--------------------------------------------------\n",
            "\n",
            "{\n",
            "    \"Sentiment\": \"Negative\",\n",
            "    \"Is_problem_valid\": \"Yes\",\n",
            "    \"Problem_description\": \"The receptionist was rude and unhelpful.\",\n",
            "    \"Who_caused_the_problem\": \"Receptionist\",\n",
            "    \"Specific_entity_name\": \"N/A\"\n",
            "}\n",
            "\n",
            "--------------------------------------------------\n",
            "\n",
            "{\n",
            "    \"Sentiment\": \"Negative\",\n",
            "    \"Is the problem valid\": \"yes\",\n",
            "    \"Describe the problem\": \"The parking facilities are inadequate and always full.\",\n",
            "    \"Who cause the problem\": \"Facility Management\",\n",
            "    \"Specific entity name\": \"N/A\"\n",
            "}\n",
            "\n",
            "--------------------------------------------------\n",
            "\n",
            "{\n",
            "    \"Sentiment\": \"Negative\",\n",
            "    \"Is the problem valid\": \"yes\",\n",
            "    \"Describe the problem\": \"The overall service at the hospital was unsatisfactory.\",\n",
            "    \"Who cause the problem\": \"Hospital staff\",\n",
            "    \"Specific entity name\": \"N/A\"\n",
            "}\n",
            "\n",
            "--------------------------------------------------\n",
            "\n",
            "{\n",
            "    \"Sentiment\": \"Negative\",\n",
            "    \"Is the problem valid\": \"yes\",\n",
            "    \"Problem description\": \"The medical equipment seems outdated and not well-maintained. The surgery was not performed properly.\",\n",
            "    \"Who caused the problem\": \"Surgeon\",\n",
            "    \"Specific entity name\": \"rohit\"\n",
            "}\n",
            "\n",
            "--------------------------------------------------\n",
            "\n"
          ]
        }
      ]
    },
    {
      "cell_type": "code",
      "source": [
        "import re\n",
        "import pandas as pd\n",
        "import json\n",
        "from langchain_google_genai import ChatGoogleGenerativeAI\n",
        "\n",
        "# Function to process feedback with Gemini Pro\n",
        "def process_feedback_with_gemini(feedback_list):\n",
        "    prompt = \"Please provide the following information in JSON format for each feedback:\\n\"\n",
        "\n",
        "    for i, feedback in enumerate(feedback_list):\n",
        "        prompt += (\n",
        "            f\"**Feedback {i+1}:** {feedback}\\n\"\n",
        "            \"1. Sentiment (Positive/Negative)\\n\"\n",
        "            \"2. Is the problem valid (yes/no)?\\n\"\n",
        "            \"3. If valid, describe the problem.\\n\"\n",
        "            \"4. Who caused the problem? Answer in one or two words. If there is a name of the person, entity, or object, try to identify their profession or the department or group they belong to based on the meaning of the sentence.\\n\"\n",
        "            \"5. Specific entity name (if any).\\n\\n\"\n",
        "        )\n",
        "\n",
        "    response = llm.invoke(prompt)\n",
        "    return response\n",
        "\n",
        "# Read the feedback dataset\n",
        "df = pd.read_csv('/content/patient_feedback.csv')\n",
        "\n",
        "# Extract all feedback entries\n",
        "feedback_list = df['feedback'].tolist()\n",
        "\n",
        "# Process all feedback entries in a single LLM invocation\n",
        "response = process_feedback_with_gemini(feedback_list)\n",
        "\n",
        "# Assuming the response content is structured in a way that it can be split back into individual responses\n",
        "response_content = response.content.strip().split('\\n\\n')\n",
        "\n",
        "# Initialize a list to hold the cleaned JSON responses\n",
        "cleaned_responses = []\n",
        "\n",
        "# Remove code block delimiters and parse each response\n",
        "for content in response_content:\n",
        "    # Remove Markdown code block delimiters\n",
        "    clean_content = re.sub(r'```json\\n|```JSON\\n|```\\n|```', '', content).strip()\n",
        "    try:\n",
        "        parsed_json = json.loads(clean_content)\n",
        "        cleaned_responses.append(parsed_json)\n",
        "    except json.JSONDecodeError as e:\n",
        "        cleaned_responses.append(f\"Invalid JSON response: {clean_content}\\nError: {e}\")\n",
        "\n",
        "# Convert the processed feedback to JSON\n",
        "processed_json = json.dumps(cleaned_responses, indent=2)\n",
        "\n",
        "# Print the JSON\n",
        "print(processed_json)\n"
      ],
      "metadata": {
        "colab": {
          "base_uri": "https://localhost:8080/"
        },
        "id": "mM0QcJVsHdQg",
        "outputId": "44724644-4a1f-4a2a-9aaf-6d50cda4e2e5"
      },
      "execution_count": 64,
      "outputs": [
        {
          "output_type": "stream",
          "name": "stdout",
          "text": [
            "[\n",
            "  \"Invalid JSON response: **Feedback 1:**\\n{\\n  \\\"Sentiment\\\": \\\"Negative\\\",\\n  \\\"Is the problem valid\\\": \\\"yes\\\",\\n  \\\"Problem description\\\": \\\"Waiting time for appointments is too long.\\\",\\n  \\\"Who caused the problem\\\": \\\"Hospital\\\",\\n  \\\"Specific entity name\\\": null\\n}\\nError: Expecting value: line 1 column 1 (char 0)\",\n",
            "  \"Invalid JSON response: **Feedback 2:**\\n{\\n  \\\"Sentiment\\\": \\\"Negative\\\",\\n  \\\"Is the problem valid\\\": \\\"yes\\\",\\n  \\\"Problem description\\\": \\\"Hospital cafeteria food quality needs improvement.\\\",\\n  \\\"Who caused the problem\\\": \\\"Cafeteria staff\\\",\\n  \\\"Specific entity name\\\": null\\n}\\nError: Expecting value: line 1 column 1 (char 0)\",\n",
            "  \"Invalid JSON response: **Feedback 3:**\\n{\\n  \\\"Sentiment\\\": \\\"Positive\\\",\\n  \\\"Is the problem valid\\\": \\\"no\\\",\\n  \\\"Problem description\\\": \\\"Dr. Smith provided excellent service.\\\",\\n  \\\"Who caused the problem\\\": null,\\n  \\\"Specific entity name\\\": \\\"Dr. Smith\\\"\\n}\\nError: Expecting value: line 1 column 1 (char 0)\",\n",
            "  \"Invalid JSON response: **Feedback 4:**\\n{\\n  \\\"Sentiment\\\": \\\"Positive\\\",\\n  \\\"Is the problem valid\\\": \\\"no\\\",\\n  \\\"Problem description\\\": \\\"Nurses provided excellent service.\\\",\\n  \\\"Who caused the problem\\\": null,\\n  \\\"Specific entity name\\\": null\\n}\\nError: Expecting value: line 1 column 1 (char 0)\",\n",
            "  \"Invalid JSON response: **Feedback 5:**\\n{\\n  \\\"Sentiment\\\": \\\"Negative\\\",\\n  \\\"Is the problem valid\\\": \\\"yes\\\",\\n  \\\"Problem description\\\": \\\"Billing process is confusing and took too long.\\\",\\n  \\\"Who caused the problem\\\": \\\"Billing department\\\",\\n  \\\"Specific entity name\\\": null\\n}\\nError: Expecting value: line 1 column 1 (char 0)\",\n",
            "  \"Invalid JSON response: **Feedback 6:**\\n{\\n  \\\"Sentiment\\\": \\\"Negative\\\",\\n  \\\"Is the problem valid\\\": \\\"yes\\\",\\n  \\\"Problem description\\\": \\\"Hospital rooms are not as clean as expected.\\\",\\n  \\\"Who caused the problem\\\": \\\"Cleaning staff\\\",\\n  \\\"Specific entity name\\\": null\\n}\\nError: Expecting value: line 1 column 1 (char 0)\",\n",
            "  \"Invalid JSON response: **Feedback 7:**\\n{\\n  \\\"Sentiment\\\": \\\"Negative\\\",\\n  \\\"Is the problem valid\\\": \\\"yes\\\",\\n  \\\"Problem description\\\": \\\"Receptionist was rude and unhelpful.\\\",\\n  \\\"Who caused the problem\\\": \\\"Receptionist\\\",\\n  \\\"Specific entity name\\\": null\\n}\\nError: Expecting value: line 1 column 1 (char 0)\",\n",
            "  \"Invalid JSON response: **Feedback 8:**\\n{\\n  \\\"Sentiment\\\": \\\"Negative\\\",\\n  \\\"Is the problem valid\\\": \\\"yes\\\",\\n  \\\"Problem description\\\": \\\"Parking facilities are inadequate and always full.\\\",\\n  \\\"Who caused the problem\\\": \\\"Hospital management\\\",\\n  \\\"Specific entity name\\\": null\\n}\\nError: Expecting value: line 1 column 1 (char 0)\",\n",
            "  \"Invalid JSON response: **Feedback 9:**\\n{\\n  \\\"Sentiment\\\": \\\"Negative\\\",\\n  \\\"Is the problem valid\\\": \\\"yes\\\",\\n  \\\"Problem description\\\": \\\"Overall service at the hospital was unsatisfactory.\\\",\\n  \\\"Who caused the problem\\\": \\\"Hospital management\\\",\\n  \\\"Specific entity name\\\": null\\n}\\nError: Expecting value: line 1 column 1 (char 0)\",\n",
            "  \"Invalid JSON response: **Feedback 10:**\\n{\\n  \\\"Sentiment\\\": \\\"Negative\\\",\\n  \\\"Is the problem valid\\\": \\\"yes\\\",\\n  \\\"Problem description\\\": \\\"Medical equipment seems outdated and not well-maintained.\\\",\\n  \\\"Who caused the problem\\\": \\\"Hospital management\\\",\\n  \\\"Specific entity name\\\": null\\n}\\nError: Expecting value: line 1 column 1 (char 0)\"\n",
            "]\n"
          ]
        }
      ]
    },
    {
      "cell_type": "code",
      "source": [
        "print(response)"
      ],
      "metadata": {
        "colab": {
          "base_uri": "https://localhost:8080/"
        },
        "id": "zN6w5Qw-zPpV",
        "outputId": "eb21ae17-693e-4596-9002-a306bc0ef492"
      },
      "execution_count": 23,
      "outputs": [
        {
          "output_type": "stream",
          "name": "stdout",
          "text": [
            "content='```\\n{\\n  \"Sentiment\": \"Negative\",\\n  \"Is the problem valid\": \"yes\",\\n  \"Describe the problem\": \"The medical equipment seems outdated and not well-maintained.\",\\n  \"Who cause the problem\": \"Hospital\",\\n  \"Specific entity name\": \"N/A\"\\n}\\n```' response_metadata={'prompt_feedback': {'block_reason': 0, 'safety_ratings': []}, 'finish_reason': 'STOP', 'safety_ratings': [{'category': 'HARM_CATEGORY_SEXUALLY_EXPLICIT', 'probability': 'NEGLIGIBLE', 'blocked': False}, {'category': 'HARM_CATEGORY_HATE_SPEECH', 'probability': 'NEGLIGIBLE', 'blocked': False}, {'category': 'HARM_CATEGORY_HARASSMENT', 'probability': 'NEGLIGIBLE', 'blocked': False}, {'category': 'HARM_CATEGORY_DANGEROUS_CONTENT', 'probability': 'NEGLIGIBLE', 'blocked': False}]} id='run-e7af6480-4a3e-4ec2-bcc9-0e0f1981f1bb-0' usage_metadata={'input_tokens': 81, 'output_tokens': 68, 'total_tokens': 149}\n"
          ]
        }
      ]
    },
    {
      "cell_type": "code",
      "source": [
        "import pandas as pd\n",
        "import json\n",
        "from langchain_google_genai import ChatGoogleGenerativeAI\n",
        "\n",
        "# Function to process feedback with Gemini Pro\n",
        "def process_feedback_with_gemini(feedback_list):\n",
        "    prompt = \"Please provide the following information in JSON format for each feedback:\\n\"\n",
        "\n",
        "    for i, feedback in enumerate(feedback_list):\n",
        "        prompt += (\n",
        "            f\"Feedback {i+1}: {feedback}\\n\"\n",
        "            \"1. Sentiment (Positive/Negative)\\n\"\n",
        "            \"2. Is the problem valid (yes/no)?\\n\"\n",
        "            \"3. If valid, describe the problem.\\n\"\n",
        "            \"4. Who caused the problem? Answer in one or two words. If there is a name of the person, entity, or object, try to identify their profession or the department or group they belong to based on the meaning of the sentence.\\n\"\n",
        "            \"5. Specific entity name (if any).\\n\\n\"\n",
        "        )\n",
        "\n",
        "    response = llm.invoke(prompt)\n",
        "    return response\n",
        "\n",
        "# Read the feedback dataset\n",
        "df = pd.read_csv('/content/patient_feedback.csv')\n",
        "\n",
        "# Extract all feedback entries\n",
        "feedback_list = df['feedback'].tolist()\n",
        "\n",
        "# Process all feedback entries in a single LLM invocation\n",
        "response = process_feedback_with_gemini(feedback_list)\n",
        "\n",
        "# Assuming the response content is structured in a way that it can be split back into individual responses\n",
        "response_content = response.content.strip().split('\\n\\n')  # Adjust the splitting logic based on actual response structure\n",
        "\n",
        "# Ensure the number of responses matches the number of feedback entries\n",
        "if len(response_content) != len(feedback_list):\n",
        "    raise ValueError(\"The number of responses from the LLM does not match the number of feedback entries.\")\n",
        "\n",
        "# Create a list to hold processed feedback\n",
        "processed_feedback = []\n",
        "\n",
        "# Process each individual response\n",
        "for content in response_content:\n",
        "    try:\n",
        "        parsed_json = json.loads(content)\n",
        "        processed_feedback.append(parsed_json)\n",
        "    except json.JSONDecodeError as e:\n",
        "        processed_feedback.append(f\"Invalid JSON response: {content}\\nError: {e}\")\n",
        "\n",
        "# Convert the processed feedback to JSON\n",
        "processed_json = json.dumps(processed_feedback, indent=2)\n",
        "\n",
        "# Print the JSON\n",
        "print(processed_json)\n"
      ],
      "metadata": {
        "colab": {
          "base_uri": "https://localhost:8080/"
        },
        "id": "5piqiVtFHRLM",
        "outputId": "bd541e4b-2dfa-4698-8543-9de27508e2b7"
      },
      "execution_count": 44,
      "outputs": [
        {
          "output_type": "stream",
          "name": "stdout",
          "text": [
            "[\n",
            "  \"Invalid JSON response: **Feedback 1:**\\n```json\\n{\\n  \\\"Sentiment\\\": \\\"Negative\\\",\\n  \\\"Is valid\\\": \\\"yes\\\",\\n  \\\"Problem description\\\": \\\"The waiting time for appointments is too long.\\\",\\n  \\\"Who caused the problem\\\": \\\"Hospital\\\",\\n  \\\"Specific entity name\\\": \\\"N/A\\\"\\n}\\n```\\nError: Expecting value: line 1 column 1 (char 0)\",\n",
            "  \"Invalid JSON response: **Feedback 2:**\\n```json\\n{\\n  \\\"Sentiment\\\": \\\"Negative\\\",\\n  \\\"Is valid\\\": \\\"yes\\\",\\n  \\\"Problem description\\\": \\\"The hospital cafeteria food quality needs improvement.\\\",\\n  \\\"Who caused the problem\\\": \\\"Cafeteria staff\\\",\\n  \\\"Specific entity name\\\": \\\"N/A\\\"\\n}\\n```\\nError: Expecting value: line 1 column 1 (char 0)\",\n",
            "  \"Invalid JSON response: **Feedback 3:**\\n```json\\n{\\n  \\\"Sentiment\\\": \\\"Positive\\\",\\n  \\\"Is valid\\\": \\\"yes\\\",\\n  \\\"Problem description\\\": \\\"Dr. Smith provided excellent service.\\\",\\n  \\\"Who caused the problem\\\": \\\"Dr. Smith\\\",\\n  \\\"Specific entity name\\\": \\\"Dr. Smith\\\"\\n}\\n```\\nError: Expecting value: line 1 column 1 (char 0)\",\n",
            "  \"Invalid JSON response: **Feedback 4:**\\n```json\\n{\\n  \\\"Sentiment\\\": \\\"Positive\\\",\\n  \\\"Is valid\\\": \\\"yes\\\",\\n  \\\"Problem description\\\": \\\"The nurses provided excellent service.\\\",\\n  \\\"Who caused the problem\\\": \\\"Nurses\\\",\\n  \\\"Specific entity name\\\": \\\"N/A\\\"\\n}\\n```\\nError: Expecting value: line 1 column 1 (char 0)\",\n",
            "  \"Invalid JSON response: **Feedback 5:**\\n```json\\n{\\n  \\\"Sentiment\\\": \\\"Negative\\\",\\n  \\\"Is valid\\\": \\\"yes\\\",\\n  \\\"Problem description\\\": \\\"The billing process is confusing and took too long.\\\",\\n  \\\"Who caused the problem\\\": \\\"Billing department\\\",\\n  \\\"Specific entity name\\\": \\\"N/A\\\"\\n}\\n```\\nError: Expecting value: line 1 column 1 (char 0)\",\n",
            "  \"Invalid JSON response: **Feedback 6:**\\n```json\\n{\\n  \\\"Sentiment\\\": \\\"Negative\\\",\\n  \\\"Is valid\\\": \\\"yes\\\",\\n  \\\"Problem description\\\": \\\"The hospital rooms are not as clean as expected.\\\",\\n  \\\"Who caused the problem\\\": \\\"Cleaning staff\\\",\\n  \\\"Specific entity name\\\": \\\"N/A\\\"\\n}\\n```\\nError: Expecting value: line 1 column 1 (char 0)\",\n",
            "  \"Invalid JSON response: **Feedback 7:**\\n```json\\n{\\n  \\\"Sentiment\\\": \\\"Negative\\\",\\n  \\\"Is valid\\\": \\\"yes\\\",\\n  \\\"Problem description\\\": \\\"The receptionist was rude and unhelpful.\\\",\\n  \\\"Who caused the problem\\\": \\\"Receptionist\\\",\\n  \\\"Specific entity name\\\": \\\"N/A\\\"\\n}\\n```\\nError: Expecting value: line 1 column 1 (char 0)\",\n",
            "  \"Invalid JSON response: **Feedback 8:**\\n```json\\n{\\n  \\\"Sentiment\\\": \\\"Negative\\\",\\n  \\\"Is valid\\\": \\\"yes\\\",\\n  \\\"Problem description\\\": \\\"The parking facilities are inadequate and always full.\\\",\\n  \\\"Who caused the problem\\\": \\\"Hospital management\\\",\\n  \\\"Specific entity name\\\": \\\"N/A\\\"\\n}\\n```\\nError: Expecting value: line 1 column 1 (char 0)\",\n",
            "  \"Invalid JSON response: **Feedback 9:**\\n```json\\n{\\n  \\\"Sentiment\\\": \\\"Negative\\\",\\n  \\\"Is valid\\\": \\\"yes\\\",\\n  \\\"Problem description\\\": \\\"The overall service at the hospital was unsatisfactory.\\\",\\n  \\\"Who caused the problem\\\": \\\"Hospital management\\\",\\n  \\\"Specific entity name\\\": \\\"N/A\\\"\\n}\\n```\\nError: Expecting value: line 1 column 1 (char 0)\",\n",
            "  \"Invalid JSON response: **Feedback 10:**\\n```json\\n{\\n  \\\"Sentiment\\\": \\\"Negative\\\",\\n  \\\"Is valid\\\": \\\"yes\\\",\\n  \\\"Problem description\\\": \\\"The medical equipment seems outdated and not well-maintained.\\\",\\n  \\\"Who caused the problem\\\": \\\"Hospital\\\",\\n  \\\"Specific entity name\\\": \\\"N/A\\\"\\n}\\n```\\nError: Expecting value: line 1 column 1 (char 0)\"\n",
            "]\n"
          ]
        }
      ]
    },
    {
      "cell_type": "code",
      "source": [
        "processed_df.to_csv('processed_feedback.csv', index=False)\n",
        "\n",
        "print(\"Feedback processing complete. Results saved to 'processed_feedback.csv'.\")\n"
      ],
      "metadata": {
        "colab": {
          "base_uri": "https://localhost:8080/"
        },
        "id": "xGLyzmRFz53B",
        "outputId": "dc8a26c0-0c3a-47ba-f4c3-3644d951be28"
      },
      "execution_count": 13,
      "outputs": [
        {
          "output_type": "stream",
          "name": "stdout",
          "text": [
            "Feedback processing complete. Results saved to 'processed_feedback.csv'.\n"
          ]
        }
      ]
    },
    {
      "cell_type": "code",
      "source": [
        "import pandas as pd\n",
        "import json\n",
        "from langchain_google_genai import ChatGoogleGenerativeAI\n",
        "\n",
        "\n",
        "def process_feedback_with_gemini(feedback):\n",
        "    prompt = (\n",
        "        f\"Feedback: {feedback}\\n\"\n",
        "        \"Please provide the following information in JSON format:\\n\"\n",
        "        \"1. Sentiment (Positive/Negative)\\n\"\n",
        "        \"2. Is the problem valid (yes/no)?\\n\"\n",
        "        \"3. If valid, describe the problem.\\n\"\n",
        "        \"4. Who is the problem for (Doctor, Receptionist, Room, Nurse, Hospital)?\\n\"\n",
        "        \"5. Specific entity name (if any).\\n\"\n",
        "        \"6. Relevant code of conduct or rules.\"\n",
        "    )\n",
        "    response = llm.invoke(prompt)\n",
        "    print(response)  # Inspect the response object\n",
        "    response_json = extract_json_from_response(response.content)\n",
        "    return response_json\n",
        "\n",
        "# Function to extract JSON from the response content\n",
        "def extract_json_from_response(response_content):\n",
        "    try:\n",
        "        start_index = response_content.index('{')\n",
        "        end_index = response_content.rindex('}') + 1\n",
        "        json_content = response_content[start_index:end_index]\n",
        "        return json.loads(json_content)\n",
        "    except (ValueError, json.JSONDecodeError) as e:\n",
        "        print(f\"Error parsing JSON from response: {e}\")\n",
        "        return {}\n",
        "\n",
        "# Read the feedback dataset\n",
        "df = pd.read_csv('/content/patient_feedback.csv')\n",
        "\n",
        "# Process each feedback entry\n",
        "processed_feedback = []\n",
        "for index, row in df.iterrows():\n",
        "    feedback = row['feedback']\n",
        "    response_json = process_feedback_with_gemini(feedback)\n",
        "    processed_feedback.append(response_json)\n",
        "\n",
        "# Convert the processed feedback to a DataFrame\n",
        "processed_df = pd.DataFrame(processed_feedback)\n",
        "\n",
        "# Save the processed feedback to a new CSV file\n",
        "processed_df.to_csv('processed_feedback.csv', index=False)\n",
        "\n",
        "print(\"Feedback processing complete. Results saved to 'processed_feedback.csv'.\")\n",
        ":\n",
        "\n",
        "\n"
      ],
      "metadata": {
        "colab": {
          "base_uri": "https://localhost:8080/"
        },
        "id": "ZH3s5O-o00vl",
        "outputId": "c95c584f-fcd5-496e-c7f0-5433a3431d68"
      },
      "execution_count": 20,
      "outputs": [
        {
          "output_type": "stream",
          "name": "stdout",
          "text": [
            "content='```\\n{\\n  \"Sentiment\": \"Negative\",\\n  \"Is_the_problem_valid\": \"yes\",\\n  \"Problem_description\": \"The waiting time for appointments is too long.\",\\n  \"Problem_for\": \"Hospital\",\\n  \"Specific_entity_name\": \"N/A\",\\n  \"Relevant_code_of_conduct_or_rules\": \"N/A\"\\n}\\n```' response_metadata={'prompt_feedback': {'block_reason': 0, 'safety_ratings': []}, 'finish_reason': 'STOP', 'safety_ratings': [{'category': 'HARM_CATEGORY_SEXUALLY_EXPLICIT', 'probability': 'NEGLIGIBLE', 'blocked': False}, {'category': 'HARM_CATEGORY_HATE_SPEECH', 'probability': 'NEGLIGIBLE', 'blocked': False}, {'category': 'HARM_CATEGORY_HARASSMENT', 'probability': 'NEGLIGIBLE', 'blocked': False}, {'category': 'HARM_CATEGORY_DANGEROUS_CONTENT', 'probability': 'NEGLIGIBLE', 'blocked': False}]} id='run-9d85e0de-fa41-4942-8dac-f735279bfe4b-0' usage_metadata={'input_tokens': 93, 'output_tokens': 90, 'total_tokens': 183}\n",
            "content='```json\\n{\\n  \"Sentiment\": \"Negative\",\\n  \"Is the problem valid\": \"yes\",\\n  \"Describe the problem\": \"The hospital cafeteria food quality needs improvement.\",\\n  \"Who is the problem for\": \"Hospital\",\\n  \"Specific entity name\": null,\\n  \"Relevant code of conduct or rules\": null\\n}\\n```' response_metadata={'prompt_feedback': {'block_reason': 0, 'safety_ratings': []}, 'finish_reason': 'STOP', 'safety_ratings': [{'category': 'HARM_CATEGORY_SEXUALLY_EXPLICIT', 'probability': 'NEGLIGIBLE', 'blocked': False}, {'category': 'HARM_CATEGORY_HATE_SPEECH', 'probability': 'NEGLIGIBLE', 'blocked': False}, {'category': 'HARM_CATEGORY_HARASSMENT', 'probability': 'NEGLIGIBLE', 'blocked': False}, {'category': 'HARM_CATEGORY_DANGEROUS_CONTENT', 'probability': 'NEGLIGIBLE', 'blocked': False}]} id='run-7567d6ba-339e-48bc-8265-f2905aeaa4a7-0' usage_metadata={'input_tokens': 92, 'output_tokens': 75, 'total_tokens': 167}\n",
            "content='```json\\n{\\n  \"Sentiment\": \"Positive\",\\n  \"Is_problem_valid\": \"No\",\\n  \"Problem_description\": null,\\n  \"Problem_for\": null,\\n  \"Entity_name\": \"Dr. Smith\",\\n  \"Code_of_conduct\": null\\n}\\n```' response_metadata={'prompt_feedback': {'block_reason': 0, 'safety_ratings': []}, 'finish_reason': 'STOP', 'safety_ratings': [{'category': 'HARM_CATEGORY_SEXUALLY_EXPLICIT', 'probability': 'NEGLIGIBLE', 'blocked': False}, {'category': 'HARM_CATEGORY_HATE_SPEECH', 'probability': 'NEGLIGIBLE', 'blocked': False}, {'category': 'HARM_CATEGORY_HARASSMENT', 'probability': 'NEGLIGIBLE', 'blocked': False}, {'category': 'HARM_CATEGORY_DANGEROUS_CONTENT', 'probability': 'NEGLIGIBLE', 'blocked': False}]} id='run-0563c532-4cd7-4609-8e58-67ac8e0d2a8d-0' usage_metadata={'input_tokens': 95, 'output_tokens': 68, 'total_tokens': 163}\n",
            "content='```json\\n{\\n  \"Sentiment\": \"Positive\",\\n  \"Is_valid\": \"no\",\\n  \"Problem_description\": \"None\",\\n  \"Problem_for\": \"None\",\\n  \"Specific_entity_name\": \"None\",\\n  \"Relevant_code_of_conduct_or_rules\": \"None\"\\n}\\n```' response_metadata={'prompt_feedback': {'block_reason': 0, 'safety_ratings': []}, 'finish_reason': 'STOP', 'safety_ratings': [{'category': 'HARM_CATEGORY_SEXUALLY_EXPLICIT', 'probability': 'NEGLIGIBLE', 'blocked': False}, {'category': 'HARM_CATEGORY_HATE_SPEECH', 'probability': 'NEGLIGIBLE', 'blocked': False}, {'category': 'HARM_CATEGORY_HARASSMENT', 'probability': 'NEGLIGIBLE', 'blocked': False}, {'category': 'HARM_CATEGORY_DANGEROUS_CONTENT', 'probability': 'NEGLIGIBLE', 'blocked': False}]} id='run-bbe9abfc-45bb-4de7-b26b-06339dabc3b3-0' usage_metadata={'input_tokens': 95, 'output_tokens': 76, 'total_tokens': 171}\n",
            "content='```json\\n{\\n  \"Sentiment\": \"Negative\",\\n  \"Is_problem_valid\": \"yes\",\\n  \"Problem_description\": \"The billing process is confusing and took too long.\",\\n  \"Problem_for\": \"Hospital\",\\n  \"Entity_name\": \"Billing department\",\\n  \"Relevant_code_of_conduct_or_rules\": \"Patients should be able to understand and complete the billing process in a timely manner.\"\\n}\\n```' response_metadata={'prompt_feedback': {'block_reason': 0, 'safety_ratings': []}, 'finish_reason': 'STOP', 'safety_ratings': [{'category': 'HARM_CATEGORY_SEXUALLY_EXPLICIT', 'probability': 'NEGLIGIBLE', 'blocked': False}, {'category': 'HARM_CATEGORY_HATE_SPEECH', 'probability': 'NEGLIGIBLE', 'blocked': False}, {'category': 'HARM_CATEGORY_HARASSMENT', 'probability': 'NEGLIGIBLE', 'blocked': False}, {'category': 'HARM_CATEGORY_DANGEROUS_CONTENT', 'probability': 'NEGLIGIBLE', 'blocked': False}]} id='run-0d8ea944-0fb5-4c9d-994a-bb903f1635f5-0' usage_metadata={'input_tokens': 94, 'output_tokens': 99, 'total_tokens': 193}\n",
            "content='```json\\n{\\n  \"Sentiment\": \"Negative\",\\n  \"Is_problem_valid\": \"yes\",\\n  \"Problem_description\": \"The hospital rooms are not as clean as expected.\",\\n  \"Problem_for\": \"Hospital\",\\n  \"Specific_entity_name\": null,\\n  \"Relevant_code_of_conduct_or_rules\": \"The hospital should ensure that the rooms are clean and meet the expected standards of hygiene.\"\\n}\\n```' response_metadata={'prompt_feedback': {'block_reason': 0, 'safety_ratings': []}, 'finish_reason': 'STOP', 'safety_ratings': [{'category': 'HARM_CATEGORY_SEXUALLY_EXPLICIT', 'probability': 'NEGLIGIBLE', 'blocked': False}, {'category': 'HARM_CATEGORY_HATE_SPEECH', 'probability': 'NEGLIGIBLE', 'blocked': False}, {'category': 'HARM_CATEGORY_HARASSMENT', 'probability': 'NEGLIGIBLE', 'blocked': False}, {'category': 'HARM_CATEGORY_DANGEROUS_CONTENT', 'probability': 'NEGLIGIBLE', 'blocked': False}]} id='run-657a1a55-f739-46c2-8b3f-05958c37fc1c-0' usage_metadata={'input_tokens': 94, 'output_tokens': 100, 'total_tokens': 194}\n",
            "content='```JSON\\n{\\n  \"Sentiment\": \"Negative\",\\n  \"Is_problem_valid\": \"yes\",\\n  \"Problem_description\": \"The receptionist was rude and unhelpful.\",\\n  \"Problem_for\": \"Receptionist\",\\n  \"Specific_entity_name\": \"Not mentioned\",\\n  \"Relevant_code_of_conduct_or_rules\": \"The receptionist should be polite and helpful to patients and visitors.\"\\n}\\n```' response_metadata={'prompt_feedback': {'block_reason': 0, 'safety_ratings': []}, 'finish_reason': 'STOP', 'safety_ratings': [{'category': 'HARM_CATEGORY_SEXUALLY_EXPLICIT', 'probability': 'NEGLIGIBLE', 'blocked': False}, {'category': 'HARM_CATEGORY_HATE_SPEECH', 'probability': 'NEGLIGIBLE', 'blocked': False}, {'category': 'HARM_CATEGORY_HARASSMENT', 'probability': 'NEGLIGIBLE', 'blocked': False}, {'category': 'HARM_CATEGORY_DANGEROUS_CONTENT', 'probability': 'NEGLIGIBLE', 'blocked': False}]} id='run-98698ba1-8b7d-4f9b-868e-7e564a14db13-0' usage_metadata={'input_tokens': 91, 'output_tokens': 95, 'total_tokens': 186}\n",
            "content='```json\\n{\\n  \"Sentiment\": \"Negative\",\\n  \"Is_problem_valid\": \"yes\",\\n  \"Problem_description\": \"The parking facilities are inadequate and always full.\",\\n  \"Problem_for\": \"Hospital\",\\n  \"Entity_name\": \"Parking facilities\",\\n  \"Code_of_conduct\": \"The hospital should provide adequate parking facilities for patients and visitors.\"\\n}\\n```' response_metadata={'prompt_feedback': {'block_reason': 0, 'safety_ratings': []}, 'finish_reason': 'STOP', 'safety_ratings': [{'category': 'HARM_CATEGORY_SEXUALLY_EXPLICIT', 'probability': 'NEGLIGIBLE', 'blocked': False}, {'category': 'HARM_CATEGORY_HATE_SPEECH', 'probability': 'NEGLIGIBLE', 'blocked': False}, {'category': 'HARM_CATEGORY_HARASSMENT', 'probability': 'NEGLIGIBLE', 'blocked': False}, {'category': 'HARM_CATEGORY_DANGEROUS_CONTENT', 'probability': 'NEGLIGIBLE', 'blocked': False}]} id='run-6321fc08-85be-47cf-bf7d-987f738fc4c1-0' usage_metadata={'input_tokens': 93, 'output_tokens': 88, 'total_tokens': 181}\n",
            "content='```json\\n{\\n  \"Sentiment\": \"Negative\",\\n  \"Is_problem_valid\": \"yes\",\\n  \"Problem_description\": \"The feedback indicates that the overall service at the hospital was unsatisfactory.\",\\n  \"Problem_for\": \"Hospital\",\\n  \"Specific_entity_name\": \"None\",\\n  \"Relevant_code_of_conduct_or_rules\": \"Patient Bill of Rights, Hospital Accreditation Standards\"\\n}\\n```' response_metadata={'prompt_feedback': {'block_reason': 0, 'safety_ratings': []}, 'finish_reason': 'STOP', 'safety_ratings': [{'category': 'HARM_CATEGORY_SEXUALLY_EXPLICIT', 'probability': 'NEGLIGIBLE', 'blocked': False}, {'category': 'HARM_CATEGORY_HATE_SPEECH', 'probability': 'NEGLIGIBLE', 'blocked': False}, {'category': 'HARM_CATEGORY_HARASSMENT', 'probability': 'NEGLIGIBLE', 'blocked': False}, {'category': 'HARM_CATEGORY_DANGEROUS_CONTENT', 'probability': 'NEGLIGIBLE', 'blocked': False}]} id='run-fae84502-f2cc-4e81-a02b-0a928646082c-0' usage_metadata={'input_tokens': 93, 'output_tokens': 96, 'total_tokens': 189}\n",
            "content='```json\\n{\\n  \"Sentiment\": \"Negative\",\\n  \"Is the problem valid\": \"yes\",\\n  \"Describe the problem\": \"The medical equipment seems outdated and not well-maintained.\",\\n  \"Who is the problem for\": \"Hospital\",\\n  \"Specific entity name\": null,\\n  \"Relevant code of conduct or rules\": \"The hospital is responsible for providing patients with safe and well-maintained medical equipment.\"\\n}\\n```' response_metadata={'prompt_feedback': {'block_reason': 0, 'safety_ratings': []}, 'finish_reason': 'STOP', 'safety_ratings': [{'category': 'HARM_CATEGORY_SEXUALLY_EXPLICIT', 'probability': 'NEGLIGIBLE', 'blocked': False}, {'category': 'HARM_CATEGORY_HATE_SPEECH', 'probability': 'NEGLIGIBLE', 'blocked': False}, {'category': 'HARM_CATEGORY_HARASSMENT', 'probability': 'NEGLIGIBLE', 'blocked': False}, {'category': 'HARM_CATEGORY_DANGEROUS_CONTENT', 'probability': 'NEGLIGIBLE', 'blocked': False}]} id='run-6551ab99-ca7b-412e-9d77-5e81cd783c2d-0' usage_metadata={'input_tokens': 95, 'output_tokens': 94, 'total_tokens': 189}\n"
          ]
        }
      ]
    },
    {
      "cell_type": "code",
      "source": [
        "processed_df.to_csv('processed_feedback.csv', index=False)\n",
        "\n",
        "print(\"Feedback processing complete. Results saved to 'processed_feedback.csv'.\")"
      ],
      "metadata": {
        "colab": {
          "base_uri": "https://localhost:8080/"
        },
        "id": "K7mn4Kc-EG9n",
        "outputId": "c546d55b-d0d1-43ec-fce0-06c4a9d4232a"
      },
      "execution_count": 21,
      "outputs": [
        {
          "output_type": "stream",
          "name": "stdout",
          "text": [
            "Feedback processing complete. Results saved to 'processed_feedback.csv'.\n"
          ]
        }
      ]
    },
    {
      "cell_type": "code",
      "source": [],
      "metadata": {
        "id": "jAwTauWWFMu9"
      },
      "execution_count": null,
      "outputs": []
    }
  ]
}